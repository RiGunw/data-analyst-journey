{
 "cells": [
  {
   "cell_type": "markdown",
   "id": "84c5fb32-9b1b-410e-b8fb-33aed2d2888f",
   "metadata": {},
   "source": [
    "# Data Preparation"
   ]
  },
  {
   "cell_type": "code",
   "execution_count": 21,
   "id": "90c9a69e-3a5d-464c-b15c-f00abee015bc",
   "metadata": {},
   "outputs": [],
   "source": [
    "import pandas as pd\n",
    "import seaborn as sns\n",
    "import numpy as np\n",
    "import matplotlib.pyplot as plt"
   ]
  },
  {
   "cell_type": "code",
   "execution_count": 25,
   "id": "0e12d173-fdce-4825-8f1a-419750cce3ba",
   "metadata": {},
   "outputs": [
    {
     "name": "stdout",
     "output_type": "stream",
     "text": [
      " Volume in drive C is Windows-SSD\n",
      " Volume Serial Number is 329B-BB10\n",
      "\n",
      " Directory of C:\\Users\\horne\\GitHub\\Eduworks\\Projects\\Youtube Stattistic 2023\n",
      "\n",
      "10/21/2024  09:29 PM    <DIR>          .\n",
      "10/21/2024  09:20 PM    <DIR>          ..\n",
      "10/21/2024  09:29 PM    <DIR>          .ipynb_checkpoints\n",
      "10/21/2024  09:28 PM    <DIR>          Data\n",
      "10/21/2024  09:26 PM             2,494 YoutubeStats2023.ipynb\n",
      "               1 File(s)          2,494 bytes\n",
      "               4 Dir(s)  103,192,739,840 bytes free\n"
     ]
    }
   ],
   "source": [
    "ls"
   ]
  },
  {
   "cell_type": "code",
   "execution_count": 37,
   "id": "17d5f463-c23d-4b7e-b2ce-8f7f206a3828",
   "metadata": {},
   "outputs": [
    {
     "name": "stdout",
     "output_type": "stream",
     "text": [
      " Volume in drive C is Windows-SSD\n",
      " Volume Serial Number is 329B-BB10\n",
      "\n",
      " Directory of C:\\Users\\horne\\GitHub\\Eduworks\\Projects\\Youtube Stattistic 2023\\Data\n",
      "\n",
      "10/21/2024  09:28 PM    <DIR>          .\n",
      "10/21/2024  09:30 PM    <DIR>          ..\n",
      "07/28/2023  03:36 PM           200,279 Global YouTube Statistics.csv\n",
      "               1 File(s)        200,279 bytes\n",
      "               2 Dir(s)  103,191,937,024 bytes free\n"
     ]
    }
   ],
   "source": [
    "ls Data"
   ]
  },
  {
   "cell_type": "code",
   "execution_count": null,
   "id": "5558a00d-01da-4e47-b0bf-30ae9517bfd2",
   "metadata": {},
   "outputs": [],
   "source": []
  },
  {
   "cell_type": "code",
   "execution_count": null,
   "id": "31c241bc-2bd1-44a0-b174-3d09389e90af",
   "metadata": {},
   "outputs": [],
   "source": []
  },
  {
   "cell_type": "markdown",
   "id": "412e51e4-e7b7-4303-9370-2b00c2e996f3",
   "metadata": {},
   "source": [
    "# Exploring Trend Data"
   ]
  },
  {
   "cell_type": "code",
   "execution_count": null,
   "id": "92c0fa07-fb7c-45a4-b99f-6a18c3a8f0af",
   "metadata": {},
   "outputs": [],
   "source": [
    "#"
   ]
  },
  {
   "cell_type": "markdown",
   "id": "3a8bca80-dede-41bc-950b-d7f5adab683c",
   "metadata": {},
   "source": [
    "# Gaining Insights"
   ]
  },
  {
   "cell_type": "markdown",
   "id": "5a12834c-71ac-477c-a9f2-ef730573c8c1",
   "metadata": {},
   "source": [
    "## Youtube Analytics"
   ]
  },
  {
   "cell_type": "code",
   "execution_count": null,
   "id": "b876d538-cb6a-4aec-9b44-5da6d157fa26",
   "metadata": {},
   "outputs": [],
   "source": []
  },
  {
   "cell_type": "markdown",
   "id": "78acd092-d98c-493e-81f6-76745cd9094f",
   "metadata": {},
   "source": [
    "## Regional Influence"
   ]
  },
  {
   "cell_type": "code",
   "execution_count": null,
   "id": "ac2a5aad-4259-4e79-8521-0dc2c627bba5",
   "metadata": {},
   "outputs": [],
   "source": []
  },
  {
   "cell_type": "code",
   "execution_count": null,
   "id": "6278f2cb-49d2-471c-9771-fda3f7a90688",
   "metadata": {},
   "outputs": [],
   "source": []
  },
  {
   "cell_type": "code",
   "execution_count": null,
   "id": "d2d69aba-317d-47f6-b95a-104ba6cec0e5",
   "metadata": {},
   "outputs": [],
   "source": []
  }
 ],
 "metadata": {
  "kernelspec": {
   "display_name": "Python 3 (ipykernel)",
   "language": "python",
   "name": "python3"
  },
  "language_info": {
   "codemirror_mode": {
    "name": "ipython",
    "version": 3
   },
   "file_extension": ".py",
   "mimetype": "text/x-python",
   "name": "python",
   "nbconvert_exporter": "python",
   "pygments_lexer": "ipython3",
   "version": "3.11.9"
  }
 },
 "nbformat": 4,
 "nbformat_minor": 5
}
