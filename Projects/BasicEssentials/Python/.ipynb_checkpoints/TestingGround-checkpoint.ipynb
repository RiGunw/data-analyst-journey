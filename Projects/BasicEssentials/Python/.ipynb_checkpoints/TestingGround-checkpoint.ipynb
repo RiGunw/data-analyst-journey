{
 "cells": [
  {
   "cell_type": "markdown",
   "id": "29ba62cc-88c2-40dc-845b-9f5cdfd6806b",
   "metadata": {},
   "source": [
    "# Python Basic Essentials"
   ]
  },
  {
   "cell_type": "code",
   "execution_count": null,
   "id": "bed581f7-86ab-4a02-82d9-308a8a5cd608",
   "metadata": {},
   "outputs": [],
   "source": [
    "#Source: https://youtu.be/fWjsdhR3z3c?si=tnogmZnHJGYrZTj2"
   ]
  },
  {
   "cell_type": "markdown",
   "id": "df8bbcea-ef94-4f8a-8070-f53d563b56d2",
   "metadata": {},
   "source": [
    "# 1. Variables and Data Types"
   ]
  },
  {
   "cell_type": "markdown",
   "id": "3387044d-dced-4fd9-a121-90fc2a573152",
   "metadata": {},
   "source": [
    "## String "
   ]
  },
  {
   "cell_type": "code",
   "execution_count": 9,
   "id": "a69cbb77-837a-42e1-a212-c0fc66a9c65e",
   "metadata": {},
   "outputs": [],
   "source": [
    "item = 'Lower Case'\n",
    "Item = 'Capitalized'\n",
    "item_Item = 'Underscore'"
   ]
  },
  {
   "cell_type": "code",
   "execution_count": 10,
   "id": "d1d866a4-1ec6-4107-a059-327668c7727e",
   "metadata": {},
   "outputs": [
    {
     "name": "stdout",
     "output_type": "stream",
     "text": [
      "Lower Case Capitalized\n",
      "Lower CaseCapitalized\n",
      "Hello there, Underscore\n",
      "Hello there, Underscore\n"
     ]
    }
   ],
   "source": [
    "print(item, Item) #comma got automated space\n",
    "print(item + Item) #using + (AKA concat) will yields no space\n",
    "print(\"Hello there, \" + item_Item) #we can combine with manually made strings using concat (+) too\n",
    "print(\"Hello there,\", item_Item) #if we use comma, no need to manually put space"
   ]
  },
  {
   "cell_type": "markdown",
   "id": "2d36d60f-4f79-4c80-817d-30c80b2b3c82",
   "metadata": {},
   "source": [
    "## Integer, String(Integer), and Boolean"
   ]
  },
  {
   "cell_type": "code",
   "execution_count": 12,
   "id": "125362ff-1a5a-496e-8570-6eaa2dde8b00",
   "metadata": {},
   "outputs": [
    {
     "name": "stdout",
     "output_type": "stream",
     "text": [
      "10 Word blablabla True [1, 2, 3]\n",
      "10 Word blablabla True [1, 2, 3]\n",
      "30\n",
      "40\n"
     ]
    }
   ],
   "source": [
    "integer1 = 10\n",
    "integer2 = 20\n",
    "integer3_string = '30'\n",
    "integer4 = 4\n",
    "stringword = 'Word blablabla'\n",
    "isBoolean = True\n",
    "listvariable = [1,2,3]\n",
    "stringnumber = '12'\n",
    "\n",
    "# all variables above are just names, we can change it into anything we want (e.g integer can be renamed as int_variable etc)\n",
    "\n",
    "print(str(integer1) + \" \" + stringword + \" \" + str(isBoolean) + \" \" + str(listvariable)) \n",
    "#if using + which is concatenate, we need to make EVERY NON-STRING variables into string first, using str()\n",
    "print(integer1, stringword, isBoolean, listvariable) \n",
    "#If using comma, all good\n",
    "print(integer1 + integer2) # 10 + 20 = 30\n",
    "#integer variables can be calculated\n",
    "print(integer1 + int(integer3_string)) # 10 + 30 = 40\n",
    "#integer3 is a string, even though it contains number (it's because of the quotation marks ' ')\n",
    "#we need to convert it into integer first before calculating, using int()"
   ]
  },
  {
   "cell_type": "markdown",
   "id": "f1418eb4-704a-4d09-9877-3db8d2bebf09",
   "metadata": {},
   "source": [
    "### Integer Calculation"
   ]
  },
  {
   "cell_type": "code",
   "execution_count": 14,
   "id": "8aa778ae-f72f-4046-98e8-db9a6887affa",
   "metadata": {},
   "outputs": [
    {
     "name": "stdout",
     "output_type": "stream",
     "text": [
      "30\n",
      "-10\n",
      "200\n",
      "0.5\n",
      "10000\n",
      "0\n"
     ]
    }
   ],
   "source": [
    "#Calculations\n",
    "addition = integer1 + integer2\n",
    "difference = integer1 - integer2\n",
    "multiplication = integer1 * integer2\n",
    "divide = integer1 / integer2\n",
    "power = integer1 ** integer4 #10 power 4 = 10*10*10*10 (integer4 = 4)\n",
    "modulus = integer2 % integer4 # 20 % 4 = 0\n",
    "\n",
    "print(addition)\n",
    "print(difference)\n",
    "print(multiplication)\n",
    "print(divide)\n",
    "print(power)\n",
    "print(modulus)"
   ]
  },
  {
   "cell_type": "markdown",
   "id": "04174568-fa48-4a45-a0ee-91b61e3c6594",
   "metadata": {},
   "source": [
    "### Sum, Len, Min, Max, Mean, Modus"
   ]
  },
  {
   "cell_type": "code",
   "execution_count": 16,
   "id": "0dfff46a-924e-404e-8ed6-ed1242af3af9",
   "metadata": {},
   "outputs": [],
   "source": [
    "list1 = [1,2,3,4,5,6,7,8,9,10]\n",
    "list2 = [1,2,2,3,3,3,4,4,4,4,5,5,5,5,5]"
   ]
  },
  {
   "cell_type": "code",
   "execution_count": 17,
   "id": "2321f2ec-81ea-4c42-83b5-ccaa07fd4dcd",
   "metadata": {},
   "outputs": [
    {
     "name": "stdout",
     "output_type": "stream",
     "text": [
      "55\n",
      "10\n",
      "1\n",
      "10\n",
      "5.5\n",
      "5.5\n",
      "5\n",
      "5\n"
     ]
    }
   ],
   "source": [
    "import statistics\n",
    "\n",
    "sum_list = sum(list1)\n",
    "len_list = len(list1)\n",
    "min_list = min(list1)\n",
    "max_list = max(list1)\n",
    "\n",
    "mean_list = statistics.mean(list1)\n",
    "# OR we can do it manually (without any library import)\n",
    "mean_list2 = sum(list1) / len(list1)\n",
    "\n",
    "modus_list = statistics.mode(list2)\n",
    "# OR we can do it manually (without any library import)\n",
    "modus_list2 = max(list2, key=list2.count)\n",
    "\n",
    "print(sum_list)\n",
    "print(len_list)\n",
    "print(min_list)\n",
    "print(max_list)\n",
    "print(mean_list)\n",
    "print(mean_list2)\n",
    "print(modus_list)\n",
    "print(modus_list2)"
   ]
  },
  {
   "cell_type": "markdown",
   "id": "17e0a5c7-3af9-404c-8577-78a4da5fd12e",
   "metadata": {},
   "source": [
    "# 2. Logic Statements (if & elif)"
   ]
  },
  {
   "cell_type": "markdown",
   "id": "9bd45b4b-5d0c-415d-9122-71b094522a95",
   "metadata": {},
   "source": [
    "## Simple Booleans"
   ]
  },
  {
   "cell_type": "code",
   "execution_count": 26,
   "id": "cd083924-ff22-43a4-ac5c-b66f81847f2d",
   "metadata": {},
   "outputs": [
    {
     "name": "stdout",
     "output_type": "stream",
     "text": [
      "You are happy!\n",
      "You are NOT sad!\n"
     ]
    }
   ],
   "source": [
    "isHappy = True\n",
    "isSad = False\n",
    "isNotSad = True\n",
    "\n",
    "if isHappy:\n",
    "    print(\"You are happy!\")\n",
    "elif isNotSad:\n",
    "    print(\"You are STILL happy! (Probably)\")\n",
    "else:\n",
    "    print(\"You are NOT happy!\")\n",
    "\n",
    "if isSad:\n",
    "    print(\"You are sad!\")\n",
    "else:\n",
    "    print(\"You are NOT sad!\")        "
   ]
  },
  {
   "cell_type": "markdown",
   "id": "05c76879-d730-4703-98c9-599b6e359cbe",
   "metadata": {},
   "source": [
    "## Conditional Integer"
   ]
  },
  {
   "cell_type": "code",
   "execution_count": 28,
   "id": "c41e078b-c446-40b4-b665-e653401c5ea5",
   "metadata": {},
   "outputs": [
    {
     "name": "stdout",
     "output_type": "stream",
     "text": [
      "number3 is BIGGER than number1\n",
      "number1 + number2 EQUALS number3\n",
      "Total sum of list1 is 6\n"
     ]
    }
   ],
   "source": [
    "number1 = 1\n",
    "number2 = 2\n",
    "number3 = '3' #remeber to use int() for 'string(int)'\n",
    "list1 = [1,2,3]\n",
    "\n",
    "if number1 > number2:\n",
    "    print(\"number1 is BIGGER than number2\")\n",
    "elif int(number3) > number1:\n",
    "    print(\"number3 is BIGGER than number1\")\n",
    "\n",
    "#------------ Example 2 -----------------------------------\n",
    "if (number1+number2) == int(number3):\n",
    "    print(\"number1 + number2 EQUALS number3\")\n",
    "elif number1 > 4:\n",
    "    print(\"number1 is bigger than the number of 4!\")\n",
    "\n",
    "#------------ Example 3 -----------------------------------\n",
    "if sum(list1) == 6: #For list, we can use max, min, sum, len, etc, as long as the final result would be a singular integer variable.\n",
    "    print(\"Total sum of list1 is 6\")\n",
    "else:\n",
    "    print(\"Total sum of list1 is NOT 6\")"
   ]
  },
  {
   "cell_type": "markdown",
   "id": "f9e04fb9-6cf3-4775-a6d3-5fa0c53d0726",
   "metadata": {},
   "source": [
    "## For Loops"
   ]
  },
  {
   "cell_type": "code",
   "execution_count": 30,
   "id": "53f67d7c-eefe-4f34-bb08-f8137e8c3124",
   "metadata": {},
   "outputs": [
    {
     "name": "stdout",
     "output_type": "stream",
     "text": [
      "Hi there, 0\n",
      "Hi there, 1\n",
      "Hi there, 2\n"
     ]
    }
   ],
   "source": [
    "for i in range(3): #i can be named anything, it's just a newly formed variable used for counter, it always starts as 0\n",
    "    print(\"Hi there,\",i)"
   ]
  },
  {
   "cell_type": "code",
   "execution_count": 31,
   "id": "64aa181b-24e1-4d49-84e5-8f59e065a7e4",
   "metadata": {},
   "outputs": [
    {
     "name": "stdout",
     "output_type": "stream",
     "text": [
      "Hi there, 1\n",
      "Hi there, 2\n",
      "Hi there, 3\n"
     ]
    }
   ],
   "source": [
    "for x in range(3):\n",
    "    print(\"Hi there,\", x+1)"
   ]
  },
  {
   "cell_type": "code",
   "execution_count": 32,
   "id": "af359f43-aa4f-48d9-bc01-c92a5ede2682",
   "metadata": {},
   "outputs": [
    {
     "name": "stdout",
     "output_type": "stream",
     "text": [
      "range(0, 3)\n"
     ]
    }
   ],
   "source": [
    "print(range(3))"
   ]
  },
  {
   "cell_type": "code",
   "execution_count": 33,
   "id": "67d887c1-d5a9-4e08-8a70-b0420ffb2e9e",
   "metadata": {},
   "outputs": [
    {
     "name": "stdout",
     "output_type": "stream",
     "text": [
      "Adam\n",
      "Brutus\n",
      "Charles\n"
     ]
    }
   ],
   "source": [
    "list_name = ['Adam', 'Brutus', 'Charles']\n",
    "for name in list_name:\n",
    "    print(name)"
   ]
  },
  {
   "cell_type": "code",
   "execution_count": 34,
   "id": "4201b106-9079-4f51-8dd3-7925baf0f92a",
   "metadata": {},
   "outputs": [
    {
     "name": "stdout",
     "output_type": "stream",
     "text": [
      "Adam Brutus Charles \n"
     ]
    }
   ],
   "source": [
    "list_name = ['Adam', 'Brutus', 'Charles']\n",
    "empty_list = \"\"\n",
    "for name in list_name:\n",
    "    empty_list += name + \" \"\n",
    "print(empty_list)"
   ]
  },
  {
   "cell_type": "code",
   "execution_count": 35,
   "id": "657234ec-c120-4cc9-9c0b-091f7137b698",
   "metadata": {},
   "outputs": [
    {
     "name": "stdout",
     "output_type": "stream",
     "text": [
      "Adam\n"
     ]
    }
   ],
   "source": [
    "list_name = ['Adam', 'Brutus', 'Charles']\n",
    "for name in list_name:\n",
    "    if name == 'Brutus':\n",
    "        break\n",
    "    print(name)"
   ]
  },
  {
   "cell_type": "code",
   "execution_count": 36,
   "id": "0f654895-2360-4bf9-80c8-1ac8d2f9e9be",
   "metadata": {},
   "outputs": [
    {
     "name": "stdout",
     "output_type": "stream",
     "text": [
      "Adam\n",
      "Brutus\n"
     ]
    }
   ],
   "source": [
    "list_name = ['Adam', 'Brutus', 'Charles']\n",
    "for name in list_name:\n",
    "    print(name)\n",
    "    if name == 'Brutus':\n",
    "        break\n",
    "    "
   ]
  },
  {
   "cell_type": "markdown",
   "id": "90d5e7ad-7700-423a-af67-e32f3cfc598e",
   "metadata": {},
   "source": [
    "## While Loops"
   ]
  },
  {
   "cell_type": "code",
   "execution_count": 38,
   "id": "db10b6fe-5415-4a35-833d-c5e16aee99a1",
   "metadata": {},
   "outputs": [
    {
     "name": "stdout",
     "output_type": "stream",
     "text": [
      "1\n",
      "2\n",
      "3\n",
      "4\n",
      "5\n"
     ]
    }
   ],
   "source": [
    "i = 0\n",
    "while i < 5:\n",
    "    i = i + 1\n",
    "    print(i)"
   ]
  },
  {
   "cell_type": "code",
   "execution_count": 39,
   "id": "35145058-9d6e-4104-b0f9-8c7d5a4354b4",
   "metadata": {},
   "outputs": [
    {
     "name": "stdout",
     "output_type": "stream",
     "text": [
      "1\n",
      "2\n",
      "3\n",
      "4\n",
      "5\n"
     ]
    }
   ],
   "source": [
    "i = 0\n",
    "while i < 5:\n",
    "    i = i + 1\n",
    "    print(i)"
   ]
  },
  {
   "cell_type": "code",
   "execution_count": 54,
   "id": "18cb7423-8d37-4095-9145-76795e4513bd",
   "metadata": {},
   "outputs": [
    {
     "name": "stdin",
     "output_type": "stream",
     "text": [
      "Input a number please:  1\n",
      "Input a number please:  2\n",
      "Input a number please:  3\n",
      "Input a number please:  0\n"
     ]
    },
    {
     "name": "stdout",
     "output_type": "stream",
     "text": [
      "Done\n"
     ]
    }
   ],
   "source": [
    "while True: # if we didn't put any break condition, it will be looping forever, BE VERY CAREFUL\n",
    "    user_input = input(\"Input a number please: \") # Remember that user input would be a string\n",
    "    if user_input == '0': # Because user input would be a string, put the condition for break as a string as well, even when it's a number\n",
    "        print(\"Done\")\n",
    "        break"
   ]
  },
  {
   "cell_type": "markdown",
   "id": "a9dc0344-eef3-4b9d-86a9-f6774c3c0bed",
   "metadata": {},
   "source": [
    "# 3. def Functions"
   ]
  },
  {
   "cell_type": "code",
   "execution_count": 68,
   "id": "fcd73d38-fa58-4af7-a12b-c10a87fcddf8",
   "metadata": {},
   "outputs": [],
   "source": [
    "def Greetings(name):\n",
    "    print(\"Greetings and salutations,\", name+\"!\")"
   ]
  },
  {
   "cell_type": "code",
   "execution_count": 72,
   "id": "64fc3c9d-123a-4015-8362-f369f98d6d76",
   "metadata": {},
   "outputs": [
    {
     "name": "stdout",
     "output_type": "stream",
     "text": [
      "Greetings and salutations, Adam!\n",
      "Greetings and salutations, Brutus!\n",
      "Greetings and salutations, Charles!\n"
     ]
    }
   ],
   "source": [
    "Greetings('Adam') #Adam would automatically filled the name variable on Greetings function\n",
    "Greetings('Brutus')\n",
    "Greetings('Charles')"
   ]
  },
  {
   "cell_type": "code",
   "execution_count": 74,
   "id": "afeaeff2-76f3-448f-83b9-8f023b890449",
   "metadata": {},
   "outputs": [],
   "source": [
    "def Empty_Functions():\n",
    "    pass # USE THIS when you want to create an empty function to fill later, obviously delete pass after we fill the functions"
   ]
  },
  {
   "cell_type": "markdown",
   "id": "20f7726b-0b0a-4f2c-be0b-9d7e50892158",
   "metadata": {},
   "source": [
    "# 4. Try & Except"
   ]
  },
  {
   "cell_type": "code",
   "execution_count": 93,
   "id": "0a31949b-b6dc-4400-aa99-0c666821d46f",
   "metadata": {},
   "outputs": [
    {
     "name": "stdin",
     "output_type": "stream",
     "text": [
      "Please input a number:  1\n"
     ]
    },
    {
     "name": "stdout",
     "output_type": "stream",
     "text": [
      "11\n"
     ]
    }
   ],
   "source": [
    "user_number = input(\"Please input a number: \")\n",
    "\n",
    "try:\n",
    "    print(10 + int(user_number)) # IF TRY gave an error, it will do the 'except' part instead\n",
    "except:\n",
    "    print(\"What you inputted was NOT a valid number!\")"
   ]
  },
  {
   "cell_type": "markdown",
   "id": "4d2c0e8a-82ce-425c-b5c7-c280f0750f3f",
   "metadata": {},
   "source": [
    "# 5. Testing Ground"
   ]
  },
  {
   "cell_type": "code",
   "execution_count": 105,
   "id": "8b55119b-b336-4694-80d5-89274f5c70bf",
   "metadata": {},
   "outputs": [
    {
     "name": "stdout",
     "output_type": "stream",
     "text": [
      "x\n",
      "xx\n",
      "xxx\n",
      "xxxx\n",
      "xxxxx\n"
     ]
    }
   ],
   "source": [
    "i = 0\n",
    "x = \"\"\n",
    "while i < 5:\n",
    "    i = i + 1\n",
    "    x += \"x\"\n",
    "    print(x)"
   ]
  },
  {
   "cell_type": "code",
   "execution_count": 111,
   "id": "2ab9bf1a-244f-4048-a739-49d461cd21eb",
   "metadata": {},
   "outputs": [
    {
     "name": "stdin",
     "output_type": "stream",
     "text": [
      "Please input a number: 3\n"
     ]
    },
    {
     "name": "stdout",
     "output_type": "stream",
     "text": [
      "x\n",
      "xx\n",
      "xxx\n"
     ]
    }
   ],
   "source": [
    "i = 0\n",
    "numberinput = input(\"Please input a number:\")\n",
    "x = \"\"\n",
    "\n",
    "try:\n",
    "    while i < int(numberinput):\n",
    "        i = i + 1\n",
    "        x += \"x\"\n",
    "        print(x)\n",
    "except:\n",
    "    print(\"What you inputted was NOT a valid number!\")"
   ]
  },
  {
   "cell_type": "code",
   "execution_count": 117,
   "id": "e2af71e0-ac00-4490-b742-a0b62c05fd8a",
   "metadata": {},
   "outputs": [
    {
     "name": "stdin",
     "output_type": "stream",
     "text": [
      "Please input a number: 4\n"
     ]
    },
    {
     "name": "stdout",
     "output_type": "stream",
     "text": [
      "x\n",
      "xx\n",
      "xxx\n",
      "xxxx\n"
     ]
    }
   ],
   "source": [
    "numberinput = input(\"Please input a number:\")\n",
    "x = \"\"\n",
    "\n",
    "for counter in range(int(numberinput)):\n",
    "    counter = counter+1\n",
    "    x += \"x\"\n",
    "    print(x)"
   ]
  },
  {
   "cell_type": "code",
   "execution_count": null,
   "id": "ad4e967d-8364-4065-a18e-228d5afcb099",
   "metadata": {},
   "outputs": [],
   "source": []
  }
 ],
 "metadata": {
  "kernelspec": {
   "display_name": "Python [conda env:base] *",
   "language": "python",
   "name": "conda-base-py"
  },
  "language_info": {
   "codemirror_mode": {
    "name": "ipython",
    "version": 3
   },
   "file_extension": ".py",
   "mimetype": "text/x-python",
   "name": "python",
   "nbconvert_exporter": "python",
   "pygments_lexer": "ipython3",
   "version": "3.12.7"
  }
 },
 "nbformat": 4,
 "nbformat_minor": 5
}
