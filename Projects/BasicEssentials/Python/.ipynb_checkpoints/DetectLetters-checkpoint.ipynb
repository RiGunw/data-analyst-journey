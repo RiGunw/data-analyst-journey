{
 "cells": [
  {
   "cell_type": "code",
   "execution_count": null,
   "id": "36c14bd8-c588-4f5e-9361-be9f8f7f059e",
   "metadata": {},
   "outputs": [],
   "source": [
    "import pandas as pd\n",
    "import seaborn as sns\n",
    "import matplotlib.pyplot as plt"
   ]
  },
  {
   "cell_type": "code",
   "execution_count": null,
   "id": "66b8eb19-0c2d-4f4c-b175-7fbf0afb18ba",
   "metadata": {},
   "outputs": [],
   "source": [
    "df = pd.read_csv('../data/spam.csv', sep=',', header=0, encoding='latin1')"
   ]
  },
  {
   "cell_type": "code",
   "execution_count": null,
   "id": "fbd0d3dd-50d4-4a4c-a611-9e53bb1cd869",
   "metadata": {},
   "outputs": [],
   "source": [
    "df"
   ]
  },
  {
   "cell_type": "code",
   "execution_count": 4,
   "id": "7f1b2b09-10bb-40bd-bc61-5bdf0dfbf022",
   "metadata": {},
   "outputs": [],
   "source": [
    "a = [3,4,8,9,7,10,15]"
   ]
  },
  {
   "cell_type": "code",
   "execution_count": 18,
   "id": "44d11c60-f081-4452-9af5-898554a987dc",
   "metadata": {},
   "outputs": [],
   "source": [
    "y = 0\n",
    "for x in a:\n",
    "    if x % 2 == 0:\n",
    "        y += x  "
   ]
  },
  {
   "cell_type": "code",
   "execution_count": 20,
   "id": "03b1f8fc-a07f-4abf-bb68-2390c20027a7",
   "metadata": {},
   "outputs": [
    {
     "name": "stdout",
     "output_type": "stream",
     "text": [
      "22\n"
     ]
    }
   ],
   "source": [
    "print(y)"
   ]
  },
  {
   "cell_type": "code",
   "execution_count": 32,
   "id": "1211d2cf-d040-4e62-87d5-7d224bd03f96",
   "metadata": {},
   "outputs": [
    {
     "name": "stdout",
     "output_type": "stream",
     "text": [
      "goreng nasi suka Aku \n"
     ]
    }
   ],
   "source": [
    "sentence = \"Aku suka nasi goreng\"\n",
    "words = sentence.split()\n",
    "reversed_words = \"\"\n",
    "for word in reversed(words):\n",
    "    reversed_words += word+\" \"\n",
    "print(reversed_words)"
   ]
  },
  {
   "cell_type": "code",
   "execution_count": 36,
   "id": "425ab041-8ea0-4ae3-aea3-0f5e121e08b0",
   "metadata": {},
   "outputs": [
    {
     "data": {
      "text/plain": [
       "'goreng'"
      ]
     },
     "execution_count": 36,
     "metadata": {},
     "output_type": "execute_result"
    }
   ],
   "source": [
    "words[3]"
   ]
  },
  {
   "cell_type": "code",
   "execution_count": 62,
   "id": "ccdc1b42-f8b8-4d8c-a26e-2c9951b609ae",
   "metadata": {},
   "outputs": [
    {
     "name": "stdout",
     "output_type": "stream",
     "text": [
      "cianjur dari goreng nasi suka sangat saya Kakak \n"
     ]
    }
   ],
   "source": [
    "sentence = \"Kakak saya sangat suka nasi goreng dari cianjur\"\n",
    "words = sentence.split()\n",
    "reversed_words = \"\"\n",
    "result=len(words)-1\n",
    "for word in words:\n",
    "    reversed_words += words[result]+\" \"\n",
    "    result = result - 1\n",
    "print(reversed_words)"
   ]
  },
  {
   "cell_type": "code",
   "execution_count": 66,
   "id": "8266f799-e6bb-456c-b7e9-5f44662bb456",
   "metadata": {},
   "outputs": [
    {
     "name": "stdout",
     "output_type": "stream",
     "text": [
      "['a', 'i', 'u', 'e', 'o']\n"
     ]
    }
   ],
   "source": [
    "vocal = [\"a\",\"i\",\"u\",\"e\",\"o\"]\n",
    "print(vocal)"
   ]
  },
  {
   "cell_type": "code",
   "execution_count": 126,
   "id": "9b7d5dda-3018-4970-acb4-aba49d60a41b",
   "metadata": {},
   "outputs": [
    {
     "name": "stdout",
     "output_type": "stream",
     "text": [
      "a o u i \n"
     ]
    }
   ],
   "source": [
    "sentence = \"prabowo subianto\"\n",
    "letters = \"\"\n",
    "counter=0\n",
    "for letter in sentence:\n",
    "    letters += sentence[counter]+\" \"\n",
    "    counter = counter + 1\n",
    "#print(letters)\n",
    "result = \"\"\n",
    "for x in letters:\n",
    "    if x in \"aiueo\":\n",
    "        if x not in result:\n",
    "            result += x + \" \"\n",
    "print(result)"
   ]
  },
  {
   "cell_type": "code",
   "execution_count": 120,
   "id": "b0700937-4c0a-4d87-a956-e0786e2563bb",
   "metadata": {},
   "outputs": [
    {
     "data": {
      "text/plain": [
       "False"
      ]
     },
     "execution_count": 120,
     "metadata": {},
     "output_type": "execute_result"
    }
   ],
   "source": []
  },
  {
   "cell_type": "code",
   "execution_count": null,
   "id": "d605c5c6-5918-44cb-a62e-39f572162c65",
   "metadata": {},
   "outputs": [],
   "source": []
  }
 ],
 "metadata": {
  "kernelspec": {
   "display_name": "Python [conda env:base] *",
   "language": "python",
   "name": "conda-base-py"
  },
  "language_info": {
   "codemirror_mode": {
    "name": "ipython",
    "version": 3
   },
   "file_extension": ".py",
   "mimetype": "text/x-python",
   "name": "python",
   "nbconvert_exporter": "python",
   "pygments_lexer": "ipython3",
   "version": "3.12.7"
  }
 },
 "nbformat": 4,
 "nbformat_minor": 5
}
