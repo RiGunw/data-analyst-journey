{
 "cells": [
  {
   "cell_type": "code",
   "execution_count": 15,
   "id": "11f744ee-9d3e-4466-aec4-a5e7b19c0aa1",
   "metadata": {},
   "outputs": [
    {
     "name": "stdout",
     "output_type": "stream",
     "text": [
      "2 4 6 6 8 10 "
     ]
    }
   ],
   "source": [
    "a = [1, 3, 2, 3, 4, 6, 6, 7, 8, 9, 10]\n",
    "\n",
    "# Iterate through each element in the list\n",
    "for val in a:\n",
    "  \n",
    "    # Checks if a number is divisible by 2 (i.e., even).\n",
    "    if val % 2 == 0:\n",
    "        print(val, end = \" \")"
   ]
  },
  {
   "cell_type": "code",
   "execution_count": null,
   "id": "7d4443c9-ad28-4e41-9f0f-d1feb359d9e3",
   "metadata": {},
   "outputs": [],
   "source": []
  }
 ],
 "metadata": {
  "kernelspec": {
   "display_name": "Python [conda env:base] *",
   "language": "python",
   "name": "conda-base-py"
  },
  "language_info": {
   "codemirror_mode": {
    "name": "ipython",
    "version": 3
   },
   "file_extension": ".py",
   "mimetype": "text/x-python",
   "name": "python",
   "nbconvert_exporter": "python",
   "pygments_lexer": "ipython3",
   "version": "3.12.7"
  }
 },
 "nbformat": 4,
 "nbformat_minor": 5
}
