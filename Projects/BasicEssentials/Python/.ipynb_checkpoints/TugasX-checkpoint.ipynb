{
 "cells": [
  {
   "cell_type": "code",
   "execution_count": 122,
   "id": "884f8591-f79e-4dd8-887c-bae2d8e24061",
   "metadata": {},
   "outputs": [
    {
     "name": "stdin",
     "output_type": "stream",
     "text": [
      "Masukkan angka: 5\n"
     ]
    },
    {
     "name": "stdout",
     "output_type": "stream",
     "text": [
      "Angka yang dimasukkan: 5\n"
     ]
    }
   ],
   "source": [
    "userinput = input(\"Masukkan angka:\") #user memasukkan input\n",
    "print(\"Angka yang dimasukkan: \" + userinput) #coba diprint\n",
    "angka = int(userinput) #convert input dari user ke angka agar bisa menggunakan range()\n",
    "x = \"\" #list kosong untuk masukkan \"x\" nantinya"
   ]
  },
  {
   "cell_type": "code",
   "execution_count": 124,
   "id": "809bdc37-7f81-4437-878a-9b9a17381550",
   "metadata": {},
   "outputs": [
    {
     "name": "stdout",
     "output_type": "stream",
     "text": [
      "0\n",
      "1\n",
      "2\n",
      "3\n",
      "4\n"
     ]
    }
   ],
   "source": [
    "#Mencoba hasil counter dengan range(angka)\n",
    "for counter in range(angka):\n",
    "    print(counter)"
   ]
  },
  {
   "cell_type": "code",
   "execution_count": 126,
   "id": "1e9b015c-4e27-49a3-96ba-8a66d471da6e",
   "metadata": {},
   "outputs": [
    {
     "name": "stdout",
     "output_type": "stream",
     "text": [
      "x\n",
      "xx\n",
      "xxx\n",
      "xxxx\n",
      "xxxxx\n"
     ]
    }
   ],
   "source": [
    "for counter in range(angka):\n",
    "    counter = counter+1 #counter+1 itu agar sama dengan angka karena kalau tidak mulainya dari 0\n",
    "    if counter <= angka: #looping akan terus berjalan dan akan stop ketika counter (yg sudah di +1) = angka (user input)\n",
    "        x += \"x\" #list kosong x tadi akan ditambahkan \"x\" didalamnya, ketika kondisi if counter sudah di atas angka, maka akan enter ke baris baru\n",
    "    print(x)"
   ]
  },
  {
   "cell_type": "markdown",
   "id": "9c984434-455f-4e73-ab5a-7616f7b481ae",
   "metadata": {},
   "source": [
    "# Full code"
   ]
  },
  {
   "cell_type": "code",
   "execution_count": 129,
   "id": "4d261832-d11a-4768-bcf2-8bc0e79571bd",
   "metadata": {},
   "outputs": [
    {
     "name": "stdin",
     "output_type": "stream",
     "text": [
      "Masukkan angka: 7\n"
     ]
    },
    {
     "name": "stdout",
     "output_type": "stream",
     "text": [
      "Angka yang dimasukkan: 7\n",
      "x\n",
      "xx\n",
      "xxx\n",
      "xxxx\n",
      "xxxxx\n",
      "xxxxxx\n",
      "xxxxxxx\n"
     ]
    }
   ],
   "source": [
    "userinput = input(\"Masukkan angka:\")\n",
    "print(\"Angka yang dimasukkan: \" + userinput)\n",
    "angka = int(userinput)\n",
    "x = \"\" \n",
    "\n",
    "for counter in range(angka):\n",
    "    counter = counter+1\n",
    "    if counter <= angka:\n",
    "        x += \"x\"\n",
    "    print(x)"
   ]
  },
  {
   "cell_type": "code",
   "execution_count": null,
   "id": "2fa68d17-e4bb-4774-bf03-cc300af69b85",
   "metadata": {},
   "outputs": [],
   "source": []
  }
 ],
 "metadata": {
  "kernelspec": {
   "display_name": "Python [conda env:base] *",
   "language": "python",
   "name": "conda-base-py"
  },
  "language_info": {
   "codemirror_mode": {
    "name": "ipython",
    "version": 3
   },
   "file_extension": ".py",
   "mimetype": "text/x-python",
   "name": "python",
   "nbconvert_exporter": "python",
   "pygments_lexer": "ipython3",
   "version": "3.12.7"
  }
 },
 "nbformat": 4,
 "nbformat_minor": 5
}
