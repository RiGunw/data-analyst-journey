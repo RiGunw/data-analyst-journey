{
 "cells": [
  {
   "cell_type": "code",
   "execution_count": 7,
   "id": "4f6d0c06-c063-4d74-9428-6de04252a036",
   "metadata": {},
   "outputs": [
    {
     "name": "stdout",
     "output_type": "stream",
     "text": [
      "goreng ayam nasi makan Aku \n"
     ]
    }
   ],
   "source": [
    "s = \"Aku makan nasi ayam goreng\"\n",
    "# Split the string into words\n",
    "words = s.split()\n",
    "# Initialize an empty string to store the result\n",
    "reversed_words = \"\"\n",
    "# Iterate through the words in reverse order\n",
    "for word in reversed(words):\n",
    "    reversed_words += word + \" \"\n",
    "\n",
    "print(reversed_words)"
   ]
  },
  {
   "cell_type": "code",
   "execution_count": null,
   "id": "65d40163-110e-4ea8-8965-e39cc7dcd1bf",
   "metadata": {},
   "outputs": [],
   "source": []
  }
 ],
 "metadata": {
  "kernelspec": {
   "display_name": "Python [conda env:base] *",
   "language": "python",
   "name": "conda-base-py"
  },
  "language_info": {
   "codemirror_mode": {
    "name": "ipython",
    "version": 3
   },
   "file_extension": ".py",
   "mimetype": "text/x-python",
   "name": "python",
   "nbconvert_exporter": "python",
   "pygments_lexer": "ipython3",
   "version": "3.12.7"
  }
 },
 "nbformat": 4,
 "nbformat_minor": 5
}
